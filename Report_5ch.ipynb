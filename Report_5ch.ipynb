{
  "nbformat": 4,
  "nbformat_minor": 0,
  "metadata": {
    "colab": {
      "provenance": [],
      "authorship_tag": "ABX9TyPx+q+nIV3/3BpPPpZma2MJ",
      "include_colab_link": true
    },
    "kernelspec": {
      "name": "python3",
      "display_name": "Python 3"
    },
    "language_info": {
      "name": "python"
    }
  },
  "cells": [
    {
      "cell_type": "markdown",
      "metadata": {
        "id": "view-in-github",
        "colab_type": "text"
      },
      "source": [
        "<a href=\"https://colab.research.google.com/github/han2405/BP_05_Ch5/blob/main/Report_5ch.ipynb\" target=\"_parent\"><img src=\"https://colab.research.google.com/assets/colab-badge.svg\" alt=\"Open In Colab\"/></a>"
      ]
    },
    {
      "cell_type": "markdown",
      "source": [
        "<pre>\n",
        " 1번 다음 프로그램의 출력은 무엇인가?\n",
        " \n",
        " age=20\n",
        " if age<20:\n",
        "    print('20살 미만')\n",
        " else: \n",
        "    print('20살 이상')\n",
        "\n"
      ],
      "metadata": {
        "id": "gW5aChzofAOZ"
      }
    },
    {
      "cell_type": "code",
      "execution_count": 3,
      "metadata": {
        "colab": {
          "base_uri": "https://localhost:8080/"
        },
        "id": "1rot8ECVaFs2",
        "outputId": "88a65632-e0a6-4840-bc49-59a8656db896"
      },
      "outputs": [
        {
          "output_type": "stream",
          "name": "stdout",
          "text": [
            "20살 이상\n"
          ]
        }
      ],
      "source": [
        "age=20\n",
        "if age < 20:\n",
        "    print('20살 미만')\n",
        "else: \n",
        "    print('20살 이상')"
      ]
    },
    {
      "cell_type": "markdown",
      "source": [
        "<pre>\n",
        "2번 1번 문제에서 age가 30이상이고 50이하인 것을 체크하려면 어떻게 해야 하는가?"
      ],
      "metadata": {
        "id": "OFV-yxbQfzJn"
      }
    },
    {
      "cell_type": "code",
      "source": [
        "age=20\n",
        "if age>=30 and age<=50:\n",
        "  print('30살 이상이고 50살 이하')"
      ],
      "metadata": {
        "id": "YExby2_tgDm6"
      },
      "execution_count": 5,
      "outputs": []
    },
    {
      "cell_type": "markdown",
      "source": [
        "<pre>\n",
        " 3번 사용자에게 현재 온도를 질문하고 온도가 25도 이상이면 반바지를 추천하고 25도 미만이면 긴바지를 추천하는 프로그램을 작성해보자. "
      ],
      "metadata": {
        "id": "t7LPLUcMgh2i"
      }
    },
    {
      "cell_type": "code",
      "source": [
        "temp=int(input(\"현재 온도를 입력하시오.:\"))\n",
        "\n",
        "if temp >= 25:\n",
        "  print(\"반바지를 입으세요.\")\n",
        "else:\n",
        "  print(\"긴바지를 입으세요.\")"
      ],
      "metadata": {
        "colab": {
          "base_uri": "https://localhost:8080/"
        },
        "id": "zfA1s-RMhCcZ",
        "outputId": "e7b35b86-9125-48fc-dacb-cfe3387e3678"
      },
      "execution_count": 6,
      "outputs": [
        {
          "output_type": "stream",
          "name": "stdout",
          "text": [
            "현재 온도를 입력하시오.:11\n",
            "긴바지를 입으세요.\n"
          ]
        }
      ]
    },
    {
      "cell_type": "markdown",
      "source": [
        "<pre>\n",
        " 4번 학생의 시험 점수를 물어보고 시험 점수가 90점 이상이면 a \n",
        " 80점 이상이면 b, 70점 이상이면 c, 60점  이상이면 d, 그 외의 점수이면 f 를 주는 프로그램을 작성하라."
      ],
      "metadata": {
        "id": "2izJPS15hemB"
      }
    },
    {
      "cell_type": "code",
      "source": [],
      "metadata": {
        "id": "NQjw2dwZh0hJ"
      },
      "execution_count": null,
      "outputs": []
    },
    {
      "cell_type": "markdown",
      "source": [
        "<pre> 6번 사용자로부터 정수를 받아서 이 정수가 2와 3으로 나누어떨어질 수 있는지를 출력하라."
      ],
      "metadata": {
        "id": "lfv7Grs_jrBA"
      }
    },
    {
      "cell_type": "markdown",
      "source": [
        "<pre> 7번 2자리 숫자로 이루어진 복권이 있다. \n",
        "사용자가 가지고 있는 복권 번호가 2자리 모두 일치하면 100만원을 받는다, \n",
        "2자리 중에서 하나만 일치하면 50만원을 받는다. \n",
        "하나도 일치하지 않으면 상금은 없다. \n",
        "복권 당첨 번호는 난수로 생성하고 사용자의 입력에 따라서 상금이 얼마인지를 출력하는 프로그램을 작성하라."
      ],
      "metadata": {
        "id": "oEa4v6fmjx4K"
      }
    },
    {
      "cell_type": "markdown",
      "source": [
        "<pre> 8번 사용자로부터 2개의 원에 대한 정보를 받아서 화면에 원을 그린 후에\n",
        " 조건문을 사용하여 큰 원에 작은 원이 포함되는지를 판단하는 프로그램을 작성하라."
      ],
      "metadata": {
        "id": "Vhy8v6TBkF3n"
      }
    },
    {
      "cell_type": "code",
      "source": [
        "import turtle #원의 중심점 사이의 거리를 계산하고 이것을 (r1+r2)와 비교한다.\n",
        "\n",
        "t=turtle.Turtle()\n",
        "t.shape(\"turtle\")\n",
        "\n",
        "x1=int(input(\"큰 원의 중심좌표 x1: \"))\n",
        "큰 원의 중심좌표 x1: 0\n",
        "\n",
        "y1=int(input(\"큰 원의 중심좌표 y1: \"))\n",
        "큰 원의 중심좌표 y1: 0\n",
        "\n",
        "\n",
        "r1=int(input(\"큰 원의 반지름: \"))\n",
        "큰 원의 반지름: 100\n",
        "\n",
        "x2=int(input(\"큰 원의 중심좌표 x2: \"))\n",
        "큰 원의 중심좌표 x2: 10\n",
        "\n",
        "y2=int(input(\"큰 원의 중심좌표 y2: \"))\n",
        "큰 원의 중심좌표 y2: 10\n",
        "\n",
        "r2=int(input(\"작은 원의 반지름:\"))\n",
        "작은 원의 반지름:50\n",
        "\n",
        "t.penup()\n",
        "t.goto(x1,y1)\n",
        "t.pendown()\n",
        "t.circle(r1)\n",
        "\n",
        "t.penup()\n",
        "t.goto(x2,y2)\n",
        "t.pendown()\n",
        "t.circle(r2)\n",
        "\n",
        "dist=((x1-x2)*(x1-x2)+(y1-y2)*(y1-y2))**0.5\n",
        "                  \n",
        "if dist<=r1-r2:\n",
        "    turtle.write(\"두번째 원이 첫번째 원의 내부에 있습니다.\")\n",
        "elif dist<=r1+r2:\n",
        "    turtle.write(\"두번째 원이 첫번째 원과 겹칩니다.\")\n",
        "else:\n",
        "    turtle.write(\"두번째 원이 첫번째 원과 겹치지 않습니다.\") #들여쓰기 해제하면 글자 출력됨\n",
        "\n"
      ],
      "metadata": {
        "id": "3x2is6iIoVlK"
      },
      "execution_count": null,
      "outputs": []
    }
  ]
}